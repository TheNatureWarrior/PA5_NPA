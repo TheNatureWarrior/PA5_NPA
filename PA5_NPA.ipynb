{
 "cells": [
  {
   "cell_type": "markdown",
   "id": "67e66b43",
   "metadata": {},
   "source": [
    "# PA5 Working with Dictionaries\n",
    "## Naat Ambrosino CS 150 01 FA21 Professor Sarkar\n",
    "## version 1"
   ]
  },
  {
   "cell_type": "markdown",
   "id": "38655830",
   "metadata": {},
   "source": [
    "### A  ) Language Translator"
   ]
  },
  {
   "cell_type": "code",
   "execution_count": 35,
   "id": "314fe4a7",
   "metadata": {},
   "outputs": [
    {
     "name": "stdout",
     "output_type": "stream",
     "text": [
      "Enter a word to translate from English to Spanish (enter 0 to stop):   rojo\n",
      "The Spanish word for ROJO is not in this dictionary\n",
      "Enter a word to translate from English to Spanish (enter 0 to stop):   red\n",
      "The Spanish word for RED is ROJO\n",
      "Enter a word to translate from English to Spanish (enter 0 to stop):   cat\n",
      "The Spanish word for CAT is GATO\n",
      "Enter a word to translate from English to Spanish (enter 0 to stop):   got\n",
      "The Spanish word for GOT is not in this dictionary\n",
      "Enter a word to translate from English to Spanish (enter 0 to stop):   dog\n",
      "The Spanish word for DOG is PERRO\n",
      "Enter a word to translate from English to Spanish (enter 0 to stop):   0\n"
     ]
    }
   ],
   "source": [
    "engToSpan={'RED':'ROJO','CAT':'GATO','CAR':'COCHE','MAN':'HOMBRE','WOMAN':'MUJER','FATHER':'PADRE','MOTHER':'MADRE','PAINTING':'PINTURA','ART':'ARTE','JOB':'TRABAJO','SALAD':'ENSALADA','SOUP':'SOPA','SAUCE':'SALSA','CHICKEN':'POLLO','MEAT':'CARNE','BALLOON':'GLOBO','PARTY':'FIESTA','SHIRT':'CAMISA','HAIR':'PELO','DOG':'PERRO'}\n",
    "wordToTrans=input(\"Enter a word to translate from English to Spanish (enter 0 to stop):   \")\n",
    "while wordToTrans!=\"0\":\n",
    "    capWord=wordToTrans.upper()\n",
    "    if capWord in engToSpan:\n",
    "        print(f\"The Spanish word for {capWord} is {engToSpan[capWord]}\")\n",
    "        wordToTrans=input(\"Enter a word to translate from English to Spanish (enter 0 to stop):   \")\n",
    "    else:\n",
    "        print(f\"The Spanish word for {capWord} is not in this dictionary\")\n",
    "        wordToTrans=input(\"Enter a word to translate from English to Spanish (enter 0 to stop):   \")"
   ]
  },
  {
   "cell_type": "markdown",
   "id": "32fe2184",
   "metadata": {},
   "source": [
    "### B )   Temperature Converter"
   ]
  },
  {
   "cell_type": "code",
   "execution_count": 174,
   "id": "18a0326b",
   "metadata": {},
   "outputs": [],
   "source": [
    "#I modified some of the temperatures to make the results more apparent/clear\n",
    "tempSeptem={1: 85,\n",
    " 2: 83,\n",
    " 3: 84,\n",
    " 4: 84,\n",
    " 5: 82,\n",
    " 6: 87,\n",
    " 7: 86,\n",
    " 8: 85,\n",
    " 9: 81,\n",
    " 10: 82,\n",
    " 11: 84,\n",
    " 12: 87,\n",
    " 13: 88,\n",
    " 14: 89,\n",
    " 15: 84,\n",
    " 16: 85,\n",
    " 17: 87,\n",
    " 18: 88,\n",
    " 19: 86,\n",
    " 20: 78,\n",
    " 21: 78,\n",
    " 22: 71,\n",
    " 23: 71,\n",
    " 24: 75,\n",
    " 25: 74,\n",
    " 26: 77,\n",
    " 27: 85,\n",
    " 28: 87,\n",
    " 29: 90,\n",
    " 30: 86}"
   ]
  },
  {
   "cell_type": "code",
   "execution_count": 175,
   "id": "c905c9b7",
   "metadata": {},
   "outputs": [
    {
     "data": {
      "text/plain": [
       "{1: 29.444444444444443,\n",
       " 2: 28.333333333333332,\n",
       " 3: 28.88888888888889,\n",
       " 4: 28.88888888888889,\n",
       " 5: 27.77777777777778,\n",
       " 6: 30.555555555555557,\n",
       " 7: 30.0,\n",
       " 8: 29.444444444444443,\n",
       " 9: 27.22222222222222,\n",
       " 10: 27.77777777777778,\n",
       " 11: 28.88888888888889,\n",
       " 12: 30.555555555555557,\n",
       " 13: 31.11111111111111,\n",
       " 14: 31.666666666666668,\n",
       " 15: 28.88888888888889,\n",
       " 16: 29.444444444444443,\n",
       " 17: 30.555555555555557,\n",
       " 18: 31.11111111111111,\n",
       " 19: 30.0,\n",
       " 20: 25.555555555555557,\n",
       " 21: 25.555555555555557,\n",
       " 22: 21.666666666666668,\n",
       " 23: 21.666666666666668,\n",
       " 24: 23.88888888888889,\n",
       " 25: 23.333333333333332,\n",
       " 26: 25.0,\n",
       " 27: 29.444444444444443,\n",
       " 28: 30.555555555555557,\n",
       " 29: 32.22222222222222,\n",
       " 30: 30.0}"
      ]
     },
     "execution_count": 175,
     "metadata": {},
     "output_type": "execute_result"
    }
   ],
   "source": [
    "for i in tempSeptem:\n",
    "    tempSeptem[i]=(((tempSeptem[i]-32)*5)/9) #Converting to celcius\n",
    "tempSeptem #Now celcius"
   ]
  },
  {
   "cell_type": "code",
   "execution_count": 176,
   "id": "b12e11a4",
   "metadata": {},
   "outputs": [],
   "source": [
    "#Converting into list\n",
    "listFormOfTemps=[]\n",
    "for key in tempSeptem:\n",
    "    listFormOfTemps.append(tempSeptem[key])"
   ]
  },
  {
   "cell_type": "code",
   "execution_count": 177,
   "id": "058762d1",
   "metadata": {},
   "outputs": [
    {
     "name": "stdout",
     "output_type": "stream",
     "text": [
      "True\n",
      "True\n",
      "True\n",
      "True\n",
      "True\n",
      "True\n",
      "True\n",
      "True\n",
      "True\n",
      "True\n",
      "True\n",
      "True\n",
      "True\n",
      "True\n",
      "True\n",
      "True\n",
      "True\n",
      "True\n",
      "True\n",
      "True\n",
      "True\n",
      "True\n",
      "True\n",
      "True\n",
      "True\n",
      "True\n",
      "True\n",
      "True\n",
      "True\n",
      "True\n"
     ]
    }
   ],
   "source": [
    "for i in range(len(listFormOfTemps)):\n",
    "    print(listFormOfTemps[i]==tempSeptem[i+1])  #index of temperature in list is one less than its corrosponding day (ie, listFormOfTemps[29] is the temperature of the 30th day of September. )\n",
    "#Checking that it converted correctly into list without losing proper order"
   ]
  },
  {
   "cell_type": "code",
   "execution_count": 178,
   "id": "d98e6399",
   "metadata": {},
   "outputs": [
    {
     "name": "stdout",
     "output_type": "stream",
     "text": [
      "Day 22 was coolest day of September, at 21.666666666666668 degrees Celcius\n",
      "Day 14 was second hottest day of September, at 31.666666666666668 degrees Celcius\n"
     ]
    }
   ],
   "source": [
    "#Part 2\n",
    "minTemp=min(listFormOfTemps)\n",
    "listFormOfTemps.index(minTemp)\n",
    "print(\"Day\", listFormOfTemps.index(minTemp) +1, \"was coolest day of September, at\", minTemp, \"degrees Celcius\" )\n",
    "sortedListForm=listFormOfTemps.copy()\n",
    "sortedListForm.sort()\n",
    "secondMaxTemp=sortedListForm[len(sortedListForm)-2]\n",
    "print(\"Day\", listFormOfTemps.index(secondMaxTemp) +1, \"was second hottest day of September, at\", secondMaxTemp,\"degrees Celcius\")"
   ]
  },
  {
   "cell_type": "markdown",
   "id": "41ac177d",
   "metadata": {},
   "source": [
    "### C )   Set Operations with Examples"
   ]
  },
  {
   "cell_type": "markdown",
   "id": "3d8c031e",
   "metadata": {},
   "source": [
    "1) symmetric difference (^)\n",
    "The symmetric difference between two sets is the set of all elements that are in only one of the sets. To use symmetric difference, type SetSymDiff=SetA^SetB, where SetA is one set, SetB is another set, and SetSymDiff is the set you want to be the symmetric difference of SetA and SetB. (You don't have to actually have to create a set equal to SetA^SetB, you could just type it every time. Usually, you'd want to define a set as being the symmetric difference of the original two sets.) You can also type SetSymDiff=SetA.symmetric_difference(SetB). This is the same as the difference of the union of SetA and B and the intersection of SetA and B (see Example 1.B). If one set is a subset of the other, this is the same as the difference between the superset and its subset (see Example 1.C). If the two sets are equal, this is the empty set (see example 1.D). If the two sets are disjoint, this is the same as the union of both sets (see example 1.E). The symmetric difference operation is communitive, SetA^SetB=SetB^SetA (see example 1.F). "
   ]
  },
  {
   "cell_type": "code",
   "execution_count": 33,
   "id": "788e91fd",
   "metadata": {},
   "outputs": [
    {
     "name": "stdout",
     "output_type": "stream",
     "text": [
      "{2, 3, 4, 8, 9, 10, 14, 15, 16, 20, 21, 22, 26, 27, 28, 32, 33, 34, 38, 39, 40, 44, 45, 46, 50}\n",
      "{2, 3, 4, 8, 9, 10, 14, 15, 16, 20, 21, 22, 26, 27, 28, 32, 33, 34, 38, 39, 40, 44, 45, 46, 50}\n"
     ]
    }
   ],
   "source": [
    "#Example 1.A\n",
    "SetA={2,4,6,8,10,12,14,16,18,20,22,24,26,28,30,32,34,36,38,40,42,44,46,48,50}\n",
    "SetB={3,6,9,12,15,18,21,24,27,30,33,36,39,42,45,48}\n",
    "SetSymDiff=SetA^SetB\n",
    "print(SetSymDiff)\n",
    "SetSD=SetA.symmetric_difference(SetB)\n",
    "print(SetSD)"
   ]
  },
  {
   "cell_type": "code",
   "execution_count": 10,
   "id": "12a1a78c",
   "metadata": {},
   "outputs": [
    {
     "name": "stdout",
     "output_type": "stream",
     "text": [
      "Symmetric Difference of A and B : {2, 3, 4, 8, 9, 10, 14, 15, 16, 20, 21, 22, 26, 27, 28, 32, 33, 34, 38, 39, 40, 44, 45, 46, 50}\n",
      "Union of A and B: {2, 3, 4, 6, 8, 9, 10, 12, 14, 15, 16, 18, 20, 21, 22, 24, 26, 27, 28, 30, 32, 33, 34, 36, 38, 39, 40, 42, 44, 45, 46, 48, 50}\n",
      "Intersection of A and B: {36, 6, 42, 12, 48, 18, 24, 30}\n",
      "Union - Intersection (of A and B): {2, 3, 4, 8, 9, 10, 14, 15, 16, 20, 21, 22, 26, 27, 28, 32, 33, 34, 38, 39, 40, 44, 45, 46, 50}\n",
      "Symmetric difference== (Union-Intersection): True\n"
     ]
    }
   ],
   "source": [
    "#Example 1.B\n",
    "SetA={2,4,6,8,10,12,14,16,18,20,22,24,26,28,30,32,34,36,38,40,42,44,46,48,50}\n",
    "SetB={3,6,9,12,15,18,21,24,27,30,33,36,39,42,45,48}\n",
    "SetSymDiff=SetA^SetB\n",
    "print(\"Symmetric Difference of A and B :\", SetSymDiff)\n",
    "SetUnion=SetA|SetB\n",
    "print(\"Union of A and B:\", SetUnion)\n",
    "SetIntersect=SetA&SetB\n",
    "print(\"Intersection of A and B:\",SetIntersect)\n",
    "SetUDiffI=SetUnion-SetIntersect\n",
    "print(\"Union - Intersection (of A and B):\", SetUDiffI)\n",
    "print(\"Symmetric difference== (Union-Intersection):\",SetSymDiff==SetUDiffI)"
   ]
  },
  {
   "cell_type": "code",
   "execution_count": 5,
   "id": "f0f96c50",
   "metadata": {},
   "outputs": [
    {
     "name": "stdout",
     "output_type": "stream",
     "text": [
      "Symmetric Difference of C and D: {5, 6, 7}\n",
      "Is SetC a subset of SetD: True\n",
      "SetD-SetC= {5, 6, 7}\n",
      "The difference between the superset and its subset==their symmetric difference: True\n"
     ]
    }
   ],
   "source": [
    "#Example 1.C\n",
    "SetC={1,2,3,4}\n",
    "SetD={1,2,3,4,5,6,7}\n",
    "SetCDSymDiff=SetC^SetD\n",
    "print(\"Symmetric Difference of C and D:\",SetCDSymDiff)\n",
    "print(\"Is SetC a subset of SetD:\", SetC.issubset(SetD))\n",
    "SetDCDiff=SetD-SetC\n",
    "print(\"SetD-SetC=\",SetDCDiff)\n",
    "print(\"The difference between the superset and its subset==their symmetric difference:\",SetCDSymDiff==SetDCDiff)"
   ]
  },
  {
   "cell_type": "code",
   "execution_count": 7,
   "id": "32c0096c",
   "metadata": {},
   "outputs": [
    {
     "name": "stdout",
     "output_type": "stream",
     "text": [
      "SetE==SetF: True\n",
      "Symmetric Difference of E and F: set()\n"
     ]
    }
   ],
   "source": [
    "#Example 1.D\n",
    "SetE={1,2,3,4,5,5,5,5}\n",
    "SetF={1,2,2,2,3,4,4,4,4,5}\n",
    "print(\"SetE==SetF:\", SetE==SetF)\n",
    "print(\"Symmetric Difference of E and F:\",SetE^SetF)"
   ]
  },
  {
   "cell_type": "code",
   "execution_count": 12,
   "id": "3e760bc7",
   "metadata": {},
   "outputs": [
    {
     "name": "stdout",
     "output_type": "stream",
     "text": [
      "Set G and H are disjoint: True\n",
      "Set G and H's symmetric difference: {1, 2, 3, 4, 5, 6, 7, 8, 9, 10}\n",
      "Set G and H's union: {1, 2, 3, 4, 5, 6, 7, 8, 9, 10}\n",
      "Their union==their symmetric difference: True\n"
     ]
    }
   ],
   "source": [
    "#Example 1.E\n",
    "SetG={1,2,3,4,5}\n",
    "SetH={6,7,8,9,10}\n",
    "print(\"Set G and H are disjoint:\",SetG.isdisjoint(SetH))\n",
    "SetGHSymDiff=SetG^SetH\n",
    "print(\"Set G and H's symmetric difference:\",SetGHSymDiff)\n",
    "SetGHU=SetG|SetH\n",
    "print(\"Set G and H's union:\",SetG|SetH)\n",
    "print(\"Their union==their symmetric difference:\",SetGHU==SetGHSymDiff)"
   ]
  },
  {
   "cell_type": "code",
   "execution_count": 13,
   "id": "d1254825",
   "metadata": {},
   "outputs": [
    {
     "name": "stdout",
     "output_type": "stream",
     "text": [
      "SetA^SetB: {2, 3, 4, 8, 9, 10, 14, 15, 16, 20, 21, 22, 26, 27, 28, 32, 33, 34, 38, 39, 40, 44, 45, 46, 50}\n",
      "SetB^SetA: {2, 3, 4, 8, 9, 10, 14, 15, 16, 20, 21, 22, 26, 27, 28, 32, 33, 34, 38, 39, 40, 44, 45, 46, 50}\n",
      "SetA^SetB==SetB^SetA: True\n"
     ]
    }
   ],
   "source": [
    "#Example 1.F\n",
    "SetA={2,4,6,8,10,12,14,16,18,20,22,24,26,28,30,32,34,36,38,40,42,44,46,48,50}\n",
    "SetB={3,6,9,12,15,18,21,24,27,30,33,36,39,42,45,48}\n",
    "SetSDAB=SetA^SetB\n",
    "print(\"SetA^SetB:\",SetSDAB)\n",
    "SetSDBA=SetB^SetA\n",
    "print(\"SetB^SetA:\",SetSDBA)\n",
    "print(\"SetA^SetB==SetB^SetA:\",SetSDAB==SetSDBA)"
   ]
  },
  {
   "cell_type": "markdown",
   "id": "22f9c385",
   "metadata": {},
   "source": [
    "2) isdisjoint()  If two sets are disjoint, they have no elements in common. To use this function, type SetA.isdisjoint(SetB), where SetA and SetB are sets. It will return true or false (or an error). If the intersection of the sets is the empty set (no elements), then the sets are disjoint (see Example 2.B). If the intersection of the sets is not empty, then the sets are not disjoint (see example 2.C). The empty set is disjoint from all sets, including itself, because the intersection of the empty set and the empty set is the empty set (see example 2.D). The function .isdisjoint() is communative (see example 2.E). If you type SetA.isdisjoint(), it will return an error, as it needs an argument."
   ]
  },
  {
   "cell_type": "code",
   "execution_count": 20,
   "id": "7c48a101",
   "metadata": {},
   "outputs": [
    {
     "data": {
      "text/plain": [
       "False"
      ]
     },
     "execution_count": 20,
     "metadata": {},
     "output_type": "execute_result"
    }
   ],
   "source": [
    "#Example 2.A\n",
    "SetA={2,4,6,8,10,12,14,16,18,20,22,24,26,28,30,32,34,36,38,40,42,44,46,48,50}\n",
    "SetB={3,6,9,12,15,18,21,24,27,30,33,36,39,42,45,48}\n",
    "SetA.isdisjoint(SetB)"
   ]
  },
  {
   "cell_type": "code",
   "execution_count": 22,
   "id": "52f23e3f",
   "metadata": {},
   "outputs": [
    {
     "name": "stdout",
     "output_type": "stream",
     "text": [
      "Intersection of set C and D: set()\n",
      "Are C and D disjoint: True\n"
     ]
    }
   ],
   "source": [
    "#Example 2.B\n",
    "SetC={1,2,3,4}\n",
    "SetD={5,6,7,8}\n",
    "SetCDInter=SetC&SetD\n",
    "print(\"Intersection of set C and D:\",SetCDInter) #the empty set\n",
    "print(\"Are C and D disjoint:\", SetC.isdisjoint(SetD))"
   ]
  },
  {
   "cell_type": "code",
   "execution_count": 23,
   "id": "5410a34a",
   "metadata": {},
   "outputs": [
    {
     "name": "stdout",
     "output_type": "stream",
     "text": [
      "Intersection of set A and B: {36, 6, 42, 12, 48, 18, 24, 30}\n",
      "Are A and B disjoint: False\n"
     ]
    }
   ],
   "source": [
    "#Example 2.C\n",
    "SetA={2,4,6,8,10,12,14,16,18,20,22,24,26,28,30,32,34,36,38,40,42,44,46,48,50}\n",
    "SetB={3,6,9,12,15,18,21,24,27,30,33,36,39,42,45,48}\n",
    "SetABInter=SetA&SetB\n",
    "print(\"Intersection of set A and B:\",SetABInter)\n",
    "print(\"Are A and B disjoint:\", SetA.isdisjoint(SetB))"
   ]
  },
  {
   "cell_type": "code",
   "execution_count": 24,
   "id": "2d2eaecd",
   "metadata": {},
   "outputs": [
    {
     "name": "stdout",
     "output_type": "stream",
     "text": [
      "True True\n"
     ]
    }
   ],
   "source": [
    "#Exampple 2.D\n",
    "EmptySet=set()\n",
    "SetE={1,2,3}\n",
    "print(EmptySet.isdisjoint(SetE),EmptySet.isdisjoint(EmptySet))"
   ]
  },
  {
   "cell_type": "code",
   "execution_count": 25,
   "id": "8a579e40",
   "metadata": {},
   "outputs": [
    {
     "name": "stdout",
     "output_type": "stream",
     "text": [
      "False False True True\n"
     ]
    }
   ],
   "source": [
    "#Example 2.E\n",
    "SetA={2,4,6,8,10,12,14,16,18,20,22,24,26,28,30,32,34,36,38,40,42,44,46,48,50}\n",
    "SetB={3,6,9,12,15,18,21,24,27,30,33,36,39,42,45,48}\n",
    "SetC={1,2,3,4}\n",
    "SetD={5,6,7,8}\n",
    "print(SetA.isdisjoint(SetB),SetB.isdisjoint(SetA),SetC.isdisjoint(SetD),SetD.isdisjoint(SetC))"
   ]
  },
  {
   "cell_type": "markdown",
   "id": "940a6d78",
   "metadata": {},
   "source": [
    "3) intersection_update &= This function redefines a set as the intersection of it and another set. For example, if you type SetA&=SetB, and then call SetA, you will find it has now been redefined as the intersection of what it was originally and SetB. You can also type SetA.intersection_update(SetB) (see Example 3.B). The intersection of two sets is all the elements in both sets (they must be in both, not just one.)  This is not communative, as if you type SetA first, SetA will be redefined and SetB will be left alone, but if you type SetB first, SetB will be redefined and SetA will be left alone."
   ]
  },
  {
   "cell_type": "code",
   "execution_count": 28,
   "id": "322eccae",
   "metadata": {},
   "outputs": [
    {
     "name": "stdout",
     "output_type": "stream",
     "text": [
      "SetA: {2, 4, 6, 8, 10, 12, 14, 16, 18, 20, 22, 24, 26, 28, 30, 32, 34, 36, 38, 40, 42, 44, 46, 48, 50}\n",
      "SetB: {33, 3, 36, 6, 39, 9, 42, 12, 45, 15, 48, 18, 21, 24, 27, 30}\n",
      "The intersection of A and B: {36, 6, 42, 12, 48, 18, 24, 30}\n",
      " SetA is the intersection of the original sets: False\n",
      "After running SetA&=SetB:\n",
      "SetA: {36, 6, 42, 12, 48, 18, 24, 30}\n",
      "SetB: {33, 3, 36, 6, 39, 9, 42, 12, 45, 15, 48, 18, 21, 24, 27, 30}\n",
      " SetA is the intersection of the original sets: True\n"
     ]
    }
   ],
   "source": [
    "#Example 3.A\n",
    "SetA={2,4,6,8,10,12,14,16,18,20,22,24,26,28,30,32,34,36,38,40,42,44,46,48,50}\n",
    "SetB={3,6,9,12,15,18,21,24,27,30,33,36,39,42,45,48}\n",
    "SetABInt=SetA&SetB\n",
    "print(\"SetA:\",SetA)\n",
    "print(\"SetB:\",SetB)\n",
    "print(\"The intersection of A and B:\", SetABInt)\n",
    "print(\" SetA is the intersection of the original sets:\",SetA==SetABInt)\n",
    "SetA&=SetB\n",
    "print(\"After running SetA&=SetB:\")\n",
    "print(\"SetA:\",SetA)\n",
    "print(\"SetB:\",SetB)\n",
    "print(\" SetA is the intersection of the original sets:\",SetA==SetABInt) #note, also the intersection of their current states"
   ]
  },
  {
   "cell_type": "code",
   "execution_count": 34,
   "id": "10323ad5",
   "metadata": {},
   "outputs": [
    {
     "name": "stdout",
     "output_type": "stream",
     "text": [
      "SetA: {2, 4, 6, 8, 10, 12, 14, 16, 18, 20, 22, 24, 26, 28, 30, 32, 34, 36, 38, 40, 42, 44, 46, 48, 50}\n",
      "SetB: {33, 3, 36, 6, 39, 9, 42, 12, 45, 15, 48, 18, 21, 24, 27, 30}\n",
      "The intersection of A and B: {36, 6, 42, 12, 48, 18, 24, 30}\n",
      " SetA is the intersection of the original sets: False\n",
      "After running SetA.intersection_update(SetB):\n",
      "SetA: {36, 6, 42, 12, 48, 18, 24, 30}\n",
      "SetB: {33, 3, 36, 6, 39, 9, 42, 12, 45, 15, 48, 18, 21, 24, 27, 30}\n",
      " SetA is the intersection of the original sets: True\n"
     ]
    }
   ],
   "source": [
    "#Example 3.B\n",
    "SetA={2,4,6,8,10,12,14,16,18,20,22,24,26,28,30,32,34,36,38,40,42,44,46,48,50}\n",
    "SetB={3,6,9,12,15,18,21,24,27,30,33,36,39,42,45,48}\n",
    "SetABInt=SetA&SetB\n",
    "print(\"SetA:\",SetA)\n",
    "print(\"SetB:\",SetB)\n",
    "print(\"The intersection of A and B:\", SetABInt)\n",
    "print(\" SetA is the intersection of the original sets:\",SetA==SetABInt)\n",
    "SetA.intersection_update(SetB)\n",
    "print(\"After running SetA.intersection_update(SetB):\")\n",
    "print(\"SetA:\",SetA)\n",
    "print(\"SetB:\",SetB)\n",
    "print(\" SetA is the intersection of the original sets:\",SetA==SetABInt) #note, also the intersection of their current states"
   ]
  },
  {
   "cell_type": "markdown",
   "id": "208a020d",
   "metadata": {},
   "source": [
    "4) ^= , symmetric_difference_update . See 1 for what a symmetric difference is. Type SetA^=SetB, and it will redefine SetA as being the symmetric difference of itself and SetB. The same goes for SetA.symmetric_difference_update(SetB). It is not communative, for the same reasons intersection_update is not communative (see 3).\n"
   ]
  },
  {
   "cell_type": "code",
   "execution_count": 37,
   "id": "cbf8e09d",
   "metadata": {},
   "outputs": [
    {
     "name": "stdout",
     "output_type": "stream",
     "text": [
      "SetA: {2, 4, 6, 8, 10, 12, 14, 16, 18, 20, 22, 24, 26, 28, 30, 32, 34, 36, 38, 40, 42, 44, 46, 48, 50}\n",
      "SetB: {33, 3, 36, 6, 39, 9, 42, 12, 45, 15, 48, 18, 21, 24, 27, 30}\n",
      "The symmetric difference of A and B: {2, 3, 4, 8, 9, 10, 14, 15, 16, 20, 21, 22, 26, 27, 28, 32, 33, 34, 38, 39, 40, 44, 45, 46, 50}\n",
      " SetA is the symmetric difference of the original sets: False\n",
      "After running SetA^=SetB:\n",
      "SetA: {2, 3, 4, 8, 9, 10, 14, 15, 16, 20, 21, 22, 26, 27, 28, 32, 33, 34, 38, 39, 40, 44, 45, 46, 50}\n",
      "SetB: {33, 3, 36, 6, 39, 9, 42, 12, 45, 15, 48, 18, 21, 24, 27, 30}\n",
      " SetA is the symmetric difference of the original sets: True\n"
     ]
    }
   ],
   "source": [
    "#Example 4.A\n",
    "SetA={2,4,6,8,10,12,14,16,18,20,22,24,26,28,30,32,34,36,38,40,42,44,46,48,50}\n",
    "SetB={3,6,9,12,15,18,21,24,27,30,33,36,39,42,45,48}\n",
    "SetABSD=SetA^SetB\n",
    "print(\"SetA:\",SetA)\n",
    "print(\"SetB:\",SetB)\n",
    "print(\"The symmetric difference of A and B:\", SetABSD)\n",
    "print(\" SetA is the symmetric difference of the original sets:\",SetA==SetABSD)\n",
    "SetA^=SetB\n",
    "print(\"After running SetA^=SetB:\")\n",
    "print(\"SetA:\",SetA)\n",
    "print(\"SetB:\",SetB)\n",
    "print(\" SetA is the symmetric difference of the original sets:\",SetA==SetABSD) #note, not the symmetric difference of their current states"
   ]
  },
  {
   "cell_type": "code",
   "execution_count": 38,
   "id": "befb140f",
   "metadata": {},
   "outputs": [
    {
     "name": "stdout",
     "output_type": "stream",
     "text": [
      "SetA: {2, 4, 6, 8, 10, 12, 14, 16, 18, 20, 22, 24, 26, 28, 30, 32, 34, 36, 38, 40, 42, 44, 46, 48, 50}\n",
      "SetB: {33, 3, 36, 6, 39, 9, 42, 12, 45, 15, 48, 18, 21, 24, 27, 30}\n",
      "The symmetric difference of A and B: {2, 3, 4, 8, 9, 10, 14, 15, 16, 20, 21, 22, 26, 27, 28, 32, 33, 34, 38, 39, 40, 44, 45, 46, 50}\n",
      " SetA is the symmetric difference of the original sets: False\n",
      "After running SetA.symmetric_difference_update(SetB):\n",
      "SetA: {2, 3, 4, 8, 9, 10, 14, 15, 16, 20, 21, 22, 26, 27, 28, 32, 33, 34, 38, 39, 40, 44, 45, 46, 50}\n",
      "SetB: {33, 3, 36, 6, 39, 9, 42, 12, 45, 15, 48, 18, 21, 24, 27, 30}\n",
      " SetA is the symmetric difference of the original sets: True\n"
     ]
    }
   ],
   "source": [
    "#Example 4.B\n",
    "SetA={2,4,6,8,10,12,14,16,18,20,22,24,26,28,30,32,34,36,38,40,42,44,46,48,50}\n",
    "SetB={3,6,9,12,15,18,21,24,27,30,33,36,39,42,45,48}\n",
    "SetABSD=SetA^SetB\n",
    "print(\"SetA:\",SetA)\n",
    "print(\"SetB:\",SetB)\n",
    "print(\"The symmetric difference of A and B:\", SetABSD)\n",
    "print(\" SetA is the symmetric difference of the original sets:\",SetA==SetABSD)\n",
    "SetA.symmetric_difference_update(SetB)\n",
    "print(\"After running SetA.symmetric_difference_update(SetB):\")\n",
    "print(\"SetA:\",SetA)\n",
    "print(\"SetB:\",SetB)\n",
    "print(\" SetA is the symmetric difference of the original sets:\",SetA==SetABSD) #note, not the symmetric difference of their current states"
   ]
  },
  {
   "cell_type": "markdown",
   "id": "f20500b1",
   "metadata": {},
   "source": [
    "5) remove(), discard(), pop()\n",
    "\n",
    "Basics: remove() likes to give errors, discard() will basically never give you an error, both only want one argument, and pop() does not want an argument.\n",
    "\n",
    "For SetB.function(element in SetB), then calling SetB:\n",
    "See Example 5.A\n",
    "\n",
    "Remove: after calling SetB, you will see it is the same, except the element that you used as an argument is gone. (1)\n",
    "\n",
    "Discard: after calling SetB, you will see it is the same, except the element that you used as an argument is gone. (2)\n",
    "\n",
    "Pop: you will receive an error at the line in which you ran the function, as pop does not take an argument for sets. (3)\n",
    "\n",
    "\n",
    "For SetB.function(), then calling SetB:\n",
    "See Example 5.B\n",
    "\n",
    "Remove: you will receive an error at the line in which you ran the function, as remove requires an argument, and said argument must be in the set. (1)\n",
    "\n",
    "Discard: after calling SetB, you will see it is the same. (2)\n",
    "\n",
    "Pop: after calling SetB, you will see one element is missing. It seems to choose the element randomly, but you run the cell again, you will find nothing will change. Therefore, it seems that although pop randomly chooses what element it will affect for sets, it will always affect the same element for a given set. (3)\n",
    "\n",
    "For SetB.function(element not in SetB), then calling SetB:\n",
    "See Example 5.C\n",
    "\n",
    "Remove: you will receive an error at the line in which you ran the function, as remove requires an argument in the set (1)\n",
    "\n",
    "Discard: after calling SetB, you will see it is the same. (2)\n",
    "\n",
    "Pop: you will receive an error at the line in which you ran the function, as pop does not take an argument for sets.\n",
    "\n",
    "For performing function in way(s) that will not result in error message, but not doing anything else afterwards:\n",
    "See Example 5.D\n",
    "\n",
    "Remove: no output will be given. (1)\n",
    "\n",
    "Discard: no output will be given. (2)\n",
    "\n",
    "Pop: output will be the element that was removed. For the same set (unmodified), this will always be the same element.  (3)\n",
    "\n",
    "For SetB.function(two elements, in the set or not):\n",
    "See Example 5.D\n",
    "\n",
    "Remove: error, as remove wants one and only one argument. (1)\n",
    "\n",
    "Discard: error, as discard wants at most one argument. (2)\n",
    "\n",
    "Pop: error, as pop does not want an argument for sets."
   ]
  },
  {
   "cell_type": "code",
   "execution_count": 66,
   "id": "b1587795",
   "metadata": {},
   "outputs": [
    {
     "data": {
      "text/plain": [
       "{6, 9, 12, 15, 18, 21, 24, 27, 30, 33, 36, 39, 42, 45, 48}"
      ]
     },
     "execution_count": 66,
     "metadata": {},
     "output_type": "execute_result"
    }
   ],
   "source": [
    "#Example 5.A.1\n",
    "SetB={3,6,9,12,15,18,21,24,27,30,33,36,39,42,45,48}\n",
    "SetB.remove(3)\n",
    "SetB"
   ]
  },
  {
   "cell_type": "code",
   "execution_count": 68,
   "id": "15d2c2c1",
   "metadata": {},
   "outputs": [
    {
     "data": {
      "text/plain": [
       "{6, 9, 12, 15, 18, 21, 24, 27, 30, 33, 36, 39, 42, 45, 48}"
      ]
     },
     "execution_count": 68,
     "metadata": {},
     "output_type": "execute_result"
    }
   ],
   "source": [
    "#Example 5.A.2\n",
    "SetB={3,6,9,12,15,18,21,24,27,30,33,36,39,42,45,48}\n",
    "SetB.discard(3)\n",
    "SetB"
   ]
  },
  {
   "cell_type": "code",
   "execution_count": 48,
   "id": "7994b9dd",
   "metadata": {},
   "outputs": [
    {
     "ename": "TypeError",
     "evalue": "pop() takes no arguments (1 given)",
     "output_type": "error",
     "traceback": [
      "\u001b[1;31m---------------------------------------------------------------------------\u001b[0m",
      "\u001b[1;31mTypeError\u001b[0m                                 Traceback (most recent call last)",
      "\u001b[1;32m<ipython-input-48-580a925451ae>\u001b[0m in \u001b[0;36m<module>\u001b[1;34m\u001b[0m\n\u001b[0;32m      1\u001b[0m \u001b[0mSetB\u001b[0m\u001b[1;33m=\u001b[0m\u001b[1;33m{\u001b[0m\u001b[1;36m3\u001b[0m\u001b[1;33m,\u001b[0m\u001b[1;36m6\u001b[0m\u001b[1;33m,\u001b[0m\u001b[1;36m9\u001b[0m\u001b[1;33m,\u001b[0m\u001b[1;36m12\u001b[0m\u001b[1;33m,\u001b[0m\u001b[1;36m15\u001b[0m\u001b[1;33m,\u001b[0m\u001b[1;36m18\u001b[0m\u001b[1;33m,\u001b[0m\u001b[1;36m21\u001b[0m\u001b[1;33m,\u001b[0m\u001b[1;36m24\u001b[0m\u001b[1;33m,\u001b[0m\u001b[1;36m27\u001b[0m\u001b[1;33m,\u001b[0m\u001b[1;36m30\u001b[0m\u001b[1;33m,\u001b[0m\u001b[1;36m33\u001b[0m\u001b[1;33m,\u001b[0m\u001b[1;36m36\u001b[0m\u001b[1;33m,\u001b[0m\u001b[1;36m39\u001b[0m\u001b[1;33m,\u001b[0m\u001b[1;36m42\u001b[0m\u001b[1;33m,\u001b[0m\u001b[1;36m45\u001b[0m\u001b[1;33m,\u001b[0m\u001b[1;36m48\u001b[0m\u001b[1;33m}\u001b[0m\u001b[1;33m\u001b[0m\u001b[1;33m\u001b[0m\u001b[0m\n\u001b[1;32m----> 2\u001b[1;33m \u001b[0mSetB\u001b[0m\u001b[1;33m.\u001b[0m\u001b[0mpop\u001b[0m\u001b[1;33m(\u001b[0m\u001b[1;36m3\u001b[0m\u001b[1;33m)\u001b[0m\u001b[1;33m\u001b[0m\u001b[1;33m\u001b[0m\u001b[0m\n\u001b[0m\u001b[0;32m      3\u001b[0m \u001b[0mSetB\u001b[0m\u001b[1;33m\u001b[0m\u001b[1;33m\u001b[0m\u001b[0m\n",
      "\u001b[1;31mTypeError\u001b[0m: pop() takes no arguments (1 given)"
     ]
    }
   ],
   "source": [
    "#Example 5.A.3\n",
    "SetB={3,6,9,12,15,18,21,24,27,30,33,36,39,42,45,48}\n",
    "SetB.pop(3)\n",
    "SetB"
   ]
  },
  {
   "cell_type": "code",
   "execution_count": 43,
   "id": "45ad2770",
   "metadata": {},
   "outputs": [
    {
     "ename": "TypeError",
     "evalue": "remove() takes exactly one argument (0 given)",
     "output_type": "error",
     "traceback": [
      "\u001b[1;31m---------------------------------------------------------------------------\u001b[0m",
      "\u001b[1;31mTypeError\u001b[0m                                 Traceback (most recent call last)",
      "\u001b[1;32m<ipython-input-43-b7161001cde8>\u001b[0m in \u001b[0;36m<module>\u001b[1;34m\u001b[0m\n\u001b[0;32m      1\u001b[0m \u001b[0mSetB\u001b[0m\u001b[1;33m=\u001b[0m\u001b[1;33m{\u001b[0m\u001b[1;36m3\u001b[0m\u001b[1;33m,\u001b[0m\u001b[1;36m6\u001b[0m\u001b[1;33m,\u001b[0m\u001b[1;36m9\u001b[0m\u001b[1;33m,\u001b[0m\u001b[1;36m12\u001b[0m\u001b[1;33m,\u001b[0m\u001b[1;36m15\u001b[0m\u001b[1;33m,\u001b[0m\u001b[1;36m18\u001b[0m\u001b[1;33m,\u001b[0m\u001b[1;36m21\u001b[0m\u001b[1;33m,\u001b[0m\u001b[1;36m24\u001b[0m\u001b[1;33m,\u001b[0m\u001b[1;36m27\u001b[0m\u001b[1;33m,\u001b[0m\u001b[1;36m30\u001b[0m\u001b[1;33m,\u001b[0m\u001b[1;36m33\u001b[0m\u001b[1;33m,\u001b[0m\u001b[1;36m36\u001b[0m\u001b[1;33m,\u001b[0m\u001b[1;36m39\u001b[0m\u001b[1;33m,\u001b[0m\u001b[1;36m42\u001b[0m\u001b[1;33m,\u001b[0m\u001b[1;36m45\u001b[0m\u001b[1;33m,\u001b[0m\u001b[1;36m48\u001b[0m\u001b[1;33m}\u001b[0m\u001b[1;33m\u001b[0m\u001b[1;33m\u001b[0m\u001b[0m\n\u001b[1;32m----> 2\u001b[1;33m \u001b[0mSetB\u001b[0m\u001b[1;33m.\u001b[0m\u001b[0mremove\u001b[0m\u001b[1;33m(\u001b[0m\u001b[1;33m)\u001b[0m\u001b[1;33m\u001b[0m\u001b[1;33m\u001b[0m\u001b[0m\n\u001b[0m\u001b[0;32m      3\u001b[0m \u001b[0mSetB\u001b[0m\u001b[1;33m\u001b[0m\u001b[1;33m\u001b[0m\u001b[0m\n",
      "\u001b[1;31mTypeError\u001b[0m: remove() takes exactly one argument (0 given)"
     ]
    }
   ],
   "source": [
    "#Example 5.B.1\n",
    "SetB={3,6,9,12,15,18,21,24,27,30,33,36,39,42,45,48}\n",
    "SetB.remove()\n",
    "SetB"
   ]
  },
  {
   "cell_type": "code",
   "execution_count": 45,
   "id": "d3a0a8f5",
   "metadata": {},
   "outputs": [
    {
     "ename": "TypeError",
     "evalue": "discard() takes exactly one argument (0 given)",
     "output_type": "error",
     "traceback": [
      "\u001b[1;31m---------------------------------------------------------------------------\u001b[0m",
      "\u001b[1;31mTypeError\u001b[0m                                 Traceback (most recent call last)",
      "\u001b[1;32m<ipython-input-45-99a453f543cf>\u001b[0m in \u001b[0;36m<module>\u001b[1;34m\u001b[0m\n\u001b[0;32m      1\u001b[0m \u001b[0mSetB\u001b[0m\u001b[1;33m=\u001b[0m\u001b[1;33m{\u001b[0m\u001b[1;36m3\u001b[0m\u001b[1;33m,\u001b[0m\u001b[1;36m6\u001b[0m\u001b[1;33m,\u001b[0m\u001b[1;36m9\u001b[0m\u001b[1;33m,\u001b[0m\u001b[1;36m12\u001b[0m\u001b[1;33m,\u001b[0m\u001b[1;36m15\u001b[0m\u001b[1;33m,\u001b[0m\u001b[1;36m18\u001b[0m\u001b[1;33m,\u001b[0m\u001b[1;36m21\u001b[0m\u001b[1;33m,\u001b[0m\u001b[1;36m24\u001b[0m\u001b[1;33m,\u001b[0m\u001b[1;36m27\u001b[0m\u001b[1;33m,\u001b[0m\u001b[1;36m30\u001b[0m\u001b[1;33m,\u001b[0m\u001b[1;36m33\u001b[0m\u001b[1;33m,\u001b[0m\u001b[1;36m36\u001b[0m\u001b[1;33m,\u001b[0m\u001b[1;36m39\u001b[0m\u001b[1;33m,\u001b[0m\u001b[1;36m42\u001b[0m\u001b[1;33m,\u001b[0m\u001b[1;36m45\u001b[0m\u001b[1;33m,\u001b[0m\u001b[1;36m48\u001b[0m\u001b[1;33m}\u001b[0m\u001b[1;33m\u001b[0m\u001b[1;33m\u001b[0m\u001b[0m\n\u001b[1;32m----> 2\u001b[1;33m \u001b[0mSetB\u001b[0m\u001b[1;33m.\u001b[0m\u001b[0mdiscard\u001b[0m\u001b[1;33m(\u001b[0m\u001b[1;33m)\u001b[0m\u001b[1;33m\u001b[0m\u001b[1;33m\u001b[0m\u001b[0m\n\u001b[0m\u001b[0;32m      3\u001b[0m \u001b[0mSetB\u001b[0m\u001b[1;33m\u001b[0m\u001b[1;33m\u001b[0m\u001b[0m\n",
      "\u001b[1;31mTypeError\u001b[0m: discard() takes exactly one argument (0 given)"
     ]
    }
   ],
   "source": [
    "#Example 5.B.2\n",
    "SetB={3,6,9,12,15,18,21,24,27,30,33,36,39,42,45,48}\n",
    "SetB.discard()\n",
    "SetB"
   ]
  },
  {
   "cell_type": "code",
   "execution_count": 50,
   "id": "083ac306",
   "metadata": {},
   "outputs": [
    {
     "data": {
      "text/plain": [
       "{3, 6, 9, 12, 15, 18, 21, 24, 27, 30, 36, 39, 42, 45, 48}"
      ]
     },
     "execution_count": 50,
     "metadata": {},
     "output_type": "execute_result"
    }
   ],
   "source": [
    "#Example 5.B.3.a\n",
    "SetB={3,6,9,12,15,18,21,24,27,30,33,36,39,42,45,48}\n",
    "SetB.pop()\n",
    "SetB"
   ]
  },
  {
   "cell_type": "code",
   "execution_count": 57,
   "id": "14fc120d",
   "metadata": {},
   "outputs": [
    {
     "data": {
      "text/plain": [
       "{3, 6, 9, 12, 15, 18, 21, 24, 27, 30, 36, 39, 42, 45, 48}"
      ]
     },
     "execution_count": 57,
     "metadata": {},
     "output_type": "execute_result"
    }
   ],
   "source": [
    "#Example 5.B.3.b\n",
    "SetB={3,6,9,12,15,18,21,24,27,30,33,36,39,42,45,48}\n",
    "SetB.pop()\n",
    "SetB"
   ]
  },
  {
   "cell_type": "code",
   "execution_count": 59,
   "id": "37e89d13",
   "metadata": {},
   "outputs": [
    {
     "data": {
      "text/plain": [
       "{3, 6, 9, 12, 15, 18, 21, 24, 27, 30, 36, 39, 42, 45, 48}"
      ]
     },
     "execution_count": 59,
     "metadata": {},
     "output_type": "execute_result"
    }
   ],
   "source": [
    "#Example 5.B.3.c\n",
    "SetB={3,6,9,12,15,18,21,24,27,30,33,36,39,42,45,48}\n",
    "SetB.pop()\n",
    "SetB"
   ]
  },
  {
   "cell_type": "code",
   "execution_count": 71,
   "id": "626efe4b",
   "metadata": {},
   "outputs": [
    {
     "ename": "KeyError",
     "evalue": "4",
     "output_type": "error",
     "traceback": [
      "\u001b[1;31m---------------------------------------------------------------------------\u001b[0m",
      "\u001b[1;31mKeyError\u001b[0m                                  Traceback (most recent call last)",
      "\u001b[1;32m<ipython-input-71-a50d65519f75>\u001b[0m in \u001b[0;36m<module>\u001b[1;34m\u001b[0m\n\u001b[0;32m      1\u001b[0m \u001b[1;31m#Example 5.C.1\u001b[0m\u001b[1;33m\u001b[0m\u001b[1;33m\u001b[0m\u001b[1;33m\u001b[0m\u001b[0m\n\u001b[0;32m      2\u001b[0m \u001b[0mSetB\u001b[0m\u001b[1;33m=\u001b[0m\u001b[1;33m{\u001b[0m\u001b[1;36m3\u001b[0m\u001b[1;33m,\u001b[0m\u001b[1;36m6\u001b[0m\u001b[1;33m,\u001b[0m\u001b[1;36m9\u001b[0m\u001b[1;33m,\u001b[0m\u001b[1;36m12\u001b[0m\u001b[1;33m,\u001b[0m\u001b[1;36m15\u001b[0m\u001b[1;33m,\u001b[0m\u001b[1;36m18\u001b[0m\u001b[1;33m,\u001b[0m\u001b[1;36m21\u001b[0m\u001b[1;33m,\u001b[0m\u001b[1;36m24\u001b[0m\u001b[1;33m,\u001b[0m\u001b[1;36m27\u001b[0m\u001b[1;33m,\u001b[0m\u001b[1;36m30\u001b[0m\u001b[1;33m,\u001b[0m\u001b[1;36m33\u001b[0m\u001b[1;33m,\u001b[0m\u001b[1;36m36\u001b[0m\u001b[1;33m,\u001b[0m\u001b[1;36m39\u001b[0m\u001b[1;33m,\u001b[0m\u001b[1;36m42\u001b[0m\u001b[1;33m,\u001b[0m\u001b[1;36m45\u001b[0m\u001b[1;33m,\u001b[0m\u001b[1;36m48\u001b[0m\u001b[1;33m}\u001b[0m\u001b[1;33m\u001b[0m\u001b[1;33m\u001b[0m\u001b[0m\n\u001b[1;32m----> 3\u001b[1;33m \u001b[0mSetB\u001b[0m\u001b[1;33m.\u001b[0m\u001b[0mremove\u001b[0m\u001b[1;33m(\u001b[0m\u001b[1;36m4\u001b[0m\u001b[1;33m)\u001b[0m\u001b[1;33m\u001b[0m\u001b[1;33m\u001b[0m\u001b[0m\n\u001b[0m\u001b[0;32m      4\u001b[0m \u001b[0mSetB\u001b[0m\u001b[1;33m\u001b[0m\u001b[1;33m\u001b[0m\u001b[0m\n",
      "\u001b[1;31mKeyError\u001b[0m: 4"
     ]
    }
   ],
   "source": [
    "#Example 5.C.1\n",
    "SetB={3,6,9,12,15,18,21,24,27,30,33,36,39,42,45,48}\n",
    "SetB.remove(4)\n",
    "SetB"
   ]
  },
  {
   "cell_type": "code",
   "execution_count": 72,
   "id": "faf0af6a",
   "metadata": {},
   "outputs": [
    {
     "data": {
      "text/plain": [
       "{3, 6, 9, 12, 15, 18, 21, 24, 27, 30, 33, 36, 39, 42, 45, 48}"
      ]
     },
     "execution_count": 72,
     "metadata": {},
     "output_type": "execute_result"
    }
   ],
   "source": [
    "#Example 5.C.2\n",
    "SetB={3,6,9,12,15,18,21,24,27,30,33,36,39,42,45,48}\n",
    "SetB.discard(4)\n",
    "SetB"
   ]
  },
  {
   "cell_type": "code",
   "execution_count": 61,
   "id": "64874a74",
   "metadata": {},
   "outputs": [],
   "source": [
    "#Example 5.D.1\n",
    "SetB={3,6,9,12,15,18,21,24,27,30,33,36,39,42,45,48}\n",
    "SetB.remove(3)"
   ]
  },
  {
   "cell_type": "code",
   "execution_count": 62,
   "id": "deed3a95",
   "metadata": {},
   "outputs": [],
   "source": [
    "#Example 5.D.2.a\n",
    "SetB={3,6,9,12,15,18,21,24,27,30,33,36,39,42,45,48}\n",
    "SetB.discard(3)"
   ]
  },
  {
   "cell_type": "code",
   "execution_count": 63,
   "id": "f8eb3b54",
   "metadata": {},
   "outputs": [],
   "source": [
    "#Example 5.D.2.b\n",
    "SetB={3,6,9,12,15,18,21,24,27,30,33,36,39,42,45,48}\n",
    "SetB.discard(4)"
   ]
  },
  {
   "cell_type": "code",
   "execution_count": 64,
   "id": "b712c32e",
   "metadata": {},
   "outputs": [
    {
     "data": {
      "text/plain": [
       "33"
      ]
     },
     "execution_count": 64,
     "metadata": {},
     "output_type": "execute_result"
    }
   ],
   "source": [
    "#Example 5.D.3\n",
    "SetB={3,6,9,12,15,18,21,24,27,30,33,36,39,42,45,48}\n",
    "SetB.pop()"
   ]
  },
  {
   "cell_type": "code",
   "execution_count": 75,
   "id": "ca9613dd",
   "metadata": {},
   "outputs": [
    {
     "ename": "TypeError",
     "evalue": "remove() takes exactly one argument (2 given)",
     "output_type": "error",
     "traceback": [
      "\u001b[1;31m---------------------------------------------------------------------------\u001b[0m",
      "\u001b[1;31mTypeError\u001b[0m                                 Traceback (most recent call last)",
      "\u001b[1;32m<ipython-input-75-53577855b173>\u001b[0m in \u001b[0;36m<module>\u001b[1;34m\u001b[0m\n\u001b[0;32m      1\u001b[0m \u001b[0mSetB\u001b[0m\u001b[1;33m=\u001b[0m\u001b[1;33m{\u001b[0m\u001b[1;36m3\u001b[0m\u001b[1;33m,\u001b[0m\u001b[1;36m6\u001b[0m\u001b[1;33m,\u001b[0m\u001b[1;36m9\u001b[0m\u001b[1;33m,\u001b[0m\u001b[1;36m12\u001b[0m\u001b[1;33m,\u001b[0m\u001b[1;36m15\u001b[0m\u001b[1;33m,\u001b[0m\u001b[1;36m18\u001b[0m\u001b[1;33m,\u001b[0m\u001b[1;36m21\u001b[0m\u001b[1;33m,\u001b[0m\u001b[1;36m24\u001b[0m\u001b[1;33m,\u001b[0m\u001b[1;36m27\u001b[0m\u001b[1;33m,\u001b[0m\u001b[1;36m30\u001b[0m\u001b[1;33m,\u001b[0m\u001b[1;36m33\u001b[0m\u001b[1;33m,\u001b[0m\u001b[1;36m36\u001b[0m\u001b[1;33m,\u001b[0m\u001b[1;36m39\u001b[0m\u001b[1;33m,\u001b[0m\u001b[1;36m42\u001b[0m\u001b[1;33m,\u001b[0m\u001b[1;36m45\u001b[0m\u001b[1;33m,\u001b[0m\u001b[1;36m48\u001b[0m\u001b[1;33m}\u001b[0m\u001b[1;33m\u001b[0m\u001b[1;33m\u001b[0m\u001b[0m\n\u001b[1;32m----> 2\u001b[1;33m \u001b[0mSetB\u001b[0m\u001b[1;33m.\u001b[0m\u001b[0mremove\u001b[0m\u001b[1;33m(\u001b[0m\u001b[1;36m3\u001b[0m\u001b[1;33m,\u001b[0m\u001b[1;36m6\u001b[0m\u001b[1;33m)\u001b[0m\u001b[1;33m\u001b[0m\u001b[1;33m\u001b[0m\u001b[0m\n\u001b[0m",
      "\u001b[1;31mTypeError\u001b[0m: remove() takes exactly one argument (2 given)"
     ]
    }
   ],
   "source": [
    "#Example 5.E.1\n",
    "SetB={3,6,9,12,15,18,21,24,27,30,33,36,39,42,45,48}\n",
    "SetB.remove(3,6)"
   ]
  },
  {
   "cell_type": "code",
   "execution_count": 76,
   "id": "73b2d4ce",
   "metadata": {},
   "outputs": [
    {
     "ename": "TypeError",
     "evalue": "discard() takes exactly one argument (2 given)",
     "output_type": "error",
     "traceback": [
      "\u001b[1;31m---------------------------------------------------------------------------\u001b[0m",
      "\u001b[1;31mTypeError\u001b[0m                                 Traceback (most recent call last)",
      "\u001b[1;32m<ipython-input-76-8756a63cc3d8>\u001b[0m in \u001b[0;36m<module>\u001b[1;34m\u001b[0m\n\u001b[0;32m      1\u001b[0m \u001b[1;31m#Example 5.E.2\u001b[0m\u001b[1;33m\u001b[0m\u001b[1;33m\u001b[0m\u001b[1;33m\u001b[0m\u001b[0m\n\u001b[0;32m      2\u001b[0m \u001b[0mSetB\u001b[0m\u001b[1;33m=\u001b[0m\u001b[1;33m{\u001b[0m\u001b[1;36m3\u001b[0m\u001b[1;33m,\u001b[0m\u001b[1;36m6\u001b[0m\u001b[1;33m,\u001b[0m\u001b[1;36m9\u001b[0m\u001b[1;33m,\u001b[0m\u001b[1;36m12\u001b[0m\u001b[1;33m,\u001b[0m\u001b[1;36m15\u001b[0m\u001b[1;33m,\u001b[0m\u001b[1;36m18\u001b[0m\u001b[1;33m,\u001b[0m\u001b[1;36m21\u001b[0m\u001b[1;33m,\u001b[0m\u001b[1;36m24\u001b[0m\u001b[1;33m,\u001b[0m\u001b[1;36m27\u001b[0m\u001b[1;33m,\u001b[0m\u001b[1;36m30\u001b[0m\u001b[1;33m,\u001b[0m\u001b[1;36m33\u001b[0m\u001b[1;33m,\u001b[0m\u001b[1;36m36\u001b[0m\u001b[1;33m,\u001b[0m\u001b[1;36m39\u001b[0m\u001b[1;33m,\u001b[0m\u001b[1;36m42\u001b[0m\u001b[1;33m,\u001b[0m\u001b[1;36m45\u001b[0m\u001b[1;33m,\u001b[0m\u001b[1;36m48\u001b[0m\u001b[1;33m}\u001b[0m\u001b[1;33m\u001b[0m\u001b[1;33m\u001b[0m\u001b[0m\n\u001b[1;32m----> 3\u001b[1;33m \u001b[0mSetB\u001b[0m\u001b[1;33m.\u001b[0m\u001b[0mdiscard\u001b[0m\u001b[1;33m(\u001b[0m\u001b[1;36m3\u001b[0m\u001b[1;33m,\u001b[0m\u001b[1;36m6\u001b[0m\u001b[1;33m)\u001b[0m\u001b[1;33m\u001b[0m\u001b[1;33m\u001b[0m\u001b[0m\n\u001b[0m",
      "\u001b[1;31mTypeError\u001b[0m: discard() takes exactly one argument (2 given)"
     ]
    }
   ],
   "source": [
    "#Example 5.E.2\n",
    "SetB={3,6,9,12,15,18,21,24,27,30,33,36,39,42,45,48}\n",
    "SetB.discard(3,6)"
   ]
  },
  {
   "cell_type": "code",
   "execution_count": null,
   "id": "965b38dd",
   "metadata": {},
   "outputs": [],
   "source": []
  }
 ],
 "metadata": {
  "kernelspec": {
   "display_name": "Python 3",
   "language": "python",
   "name": "python3"
  },
  "language_info": {
   "codemirror_mode": {
    "name": "ipython",
    "version": 3
   },
   "file_extension": ".py",
   "mimetype": "text/x-python",
   "name": "python",
   "nbconvert_exporter": "python",
   "pygments_lexer": "ipython3",
   "version": "3.8.8"
  }
 },
 "nbformat": 4,
 "nbformat_minor": 5
}
